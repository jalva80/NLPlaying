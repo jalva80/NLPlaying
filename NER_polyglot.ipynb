{
  "nbformat": 4,
  "nbformat_minor": 0,
  "metadata": {
    "colab": {
      "name": "NER_polyglot.ipynb",
      "provenance": [],
      "collapsed_sections": [],
      "authorship_tag": "ABX9TyMBzXyV0vuMdjiDAnj3Nlmx",
      "include_colab_link": true
    },
    "kernelspec": {
      "name": "python3",
      "display_name": "Python 3"
    }
  },
  "cells": [
    {
      "cell_type": "markdown",
      "metadata": {
        "id": "view-in-github",
        "colab_type": "text"
      },
      "source": [
        "<a href=\"https://colab.research.google.com/github/jalva80/NLPlaying/blob/master/NER_polyglot.ipynb\" target=\"_parent\"><img src=\"https://colab.research.google.com/assets/colab-badge.svg\" alt=\"Open In Colab\"/></a>"
      ]
    },
    {
      "cell_type": "markdown",
      "metadata": {
        "id": "bfxxSJjnWMI6",
        "colab_type": "text"
      },
      "source": [
        "Reconnaissance d'Entités Nommées sur un texte rédigé en langue française à l'aide de la librairie polyglot.\n",
        "https://polyglot.readthedocs.io/en/latest/index.html\n"
      ]
    },
    {
      "cell_type": "markdown",
      "metadata": {
        "id": "jYfAHiaXWhwD",
        "colab_type": "text"
      },
      "source": [
        "Téléchargement des librairies non disponibles sur Google Colaboratory"
      ]
    },
    {
      "cell_type": "code",
      "metadata": {
        "id": "Lwz8yhigETmT",
        "colab_type": "code",
        "outputId": "c8893afe-f3ed-4da5-dcf8-a376042e37af",
        "colab": {
          "base_uri": "https://localhost:8080/",
          "height": 595
        }
      },
      "source": [
        "!pip install polyglot\n",
        "!pip install PyICU\n",
        "!pip install pycld2\n",
        "!pip install morfessor"
      ],
      "execution_count": 1,
      "outputs": [
        {
          "output_type": "stream",
          "text": [
            "Collecting polyglot\n",
            "\u001b[?25l  Downloading https://files.pythonhosted.org/packages/e7/98/e24e2489114c5112b083714277204d92d372f5bbe00d5507acf40370edb9/polyglot-16.7.4.tar.gz (126kB)\n",
            "\r\u001b[K     |██▋                             | 10kB 20.4MB/s eta 0:00:01\r\u001b[K     |█████▏                          | 20kB 1.8MB/s eta 0:00:01\r\u001b[K     |███████▉                        | 30kB 2.3MB/s eta 0:00:01\r\u001b[K     |██████████▍                     | 40kB 2.6MB/s eta 0:00:01\r\u001b[K     |█████████████                   | 51kB 2.1MB/s eta 0:00:01\r\u001b[K     |███████████████▋                | 61kB 2.3MB/s eta 0:00:01\r\u001b[K     |██████████████████▏             | 71kB 2.6MB/s eta 0:00:01\r\u001b[K     |████████████████████▊           | 81kB 2.8MB/s eta 0:00:01\r\u001b[K     |███████████████████████▍        | 92kB 3.0MB/s eta 0:00:01\r\u001b[K     |██████████████████████████      | 102kB 2.9MB/s eta 0:00:01\r\u001b[K     |████████████████████████████▌   | 112kB 2.9MB/s eta 0:00:01\r\u001b[K     |███████████████████████████████▏| 122kB 2.9MB/s eta 0:00:01\r\u001b[K     |████████████████████████████████| 133kB 2.9MB/s \n",
            "\u001b[?25hBuilding wheels for collected packages: polyglot\n",
            "  Building wheel for polyglot (setup.py) ... \u001b[?25l\u001b[?25hdone\n",
            "  Created wheel for polyglot: filename=polyglot-16.7.4-py2.py3-none-any.whl size=52557 sha256=6bd70e095d15d180e3d6c9b7d1b4afd55cf758f374ad3e24b1b687b96310cd8f\n",
            "  Stored in directory: /root/.cache/pip/wheels/5e/91/ef/f1369fdc1203b0a9347d4b24f149b83a305f39ab047986d9da\n",
            "Successfully built polyglot\n",
            "Installing collected packages: polyglot\n",
            "Successfully installed polyglot-16.7.4\n",
            "Collecting PyICU\n",
            "\u001b[?25l  Downloading https://files.pythonhosted.org/packages/5a/99/c48c816095208bf3f4936ff67e571621fbddef461303a35a076f234e31f6/PyICU-2.5.tar.gz (225kB)\n",
            "\u001b[K     |████████████████████████████████| 235kB 2.8MB/s \n",
            "\u001b[?25hBuilding wheels for collected packages: PyICU\n",
            "  Building wheel for PyICU (setup.py) ... \u001b[?25l\u001b[?25hdone\n",
            "  Created wheel for PyICU: filename=PyICU-2.5-cp36-cp36m-linux_x86_64.whl size=1252601 sha256=4ddd15bd152f796f5fd542137731a5fc3ff757048ffa9f32f44611f732a9142a\n",
            "  Stored in directory: /root/.cache/pip/wheels/07/3a/28/09f90c38785945ddf9af61b7add1aa62a740f40e259626ef3a\n",
            "Successfully built PyICU\n",
            "Installing collected packages: PyICU\n",
            "Successfully installed PyICU-2.5\n",
            "Collecting pycld2\n",
            "\u001b[?25l  Downloading https://files.pythonhosted.org/packages/21/d2/8b0def84a53c88d0eb27c67b05269fbd16ad68df8c78849e7b5d65e6aec3/pycld2-0.41.tar.gz (41.4MB)\n",
            "\u001b[K     |████████████████████████████████| 41.4MB 100kB/s \n",
            "\u001b[?25hBuilding wheels for collected packages: pycld2\n",
            "  Building wheel for pycld2 (setup.py) ... \u001b[?25l\u001b[?25hdone\n",
            "  Created wheel for pycld2: filename=pycld2-0.41-cp36-cp36m-linux_x86_64.whl size=9833562 sha256=4e8b4b30fd3f949470ea380cf3ca353da6292b4c43d7ba64806238b293f24bc8\n",
            "  Stored in directory: /root/.cache/pip/wheels/c6/8f/e9/08a1a8932a490175bd140206cd86a3dbcfc70498100de11079\n",
            "Successfully built pycld2\n",
            "Installing collected packages: pycld2\n",
            "Successfully installed pycld2-0.41\n",
            "Collecting morfessor\n",
            "  Downloading https://files.pythonhosted.org/packages/39/e6/7afea30be2ee4d29ce9de0fa53acbb033163615f849515c0b1956ad074ee/Morfessor-2.0.6-py3-none-any.whl\n",
            "Installing collected packages: morfessor\n",
            "Successfully installed morfessor-2.0.6\n"
          ],
          "name": "stdout"
        }
      ]
    },
    {
      "cell_type": "markdown",
      "metadata": {
        "id": "BfwYLXdcWpEQ",
        "colab_type": "text"
      },
      "source": [
        "Téléchargement des éléments du modèle français."
      ]
    },
    {
      "cell_type": "code",
      "metadata": {
        "id": "Y_IOaIcOFcz2",
        "colab_type": "code",
        "outputId": "a221cd92-854a-4854-a500-b3dd09f2c57d",
        "colab": {
          "base_uri": "https://localhost:8080/",
          "height": 68
        }
      },
      "source": [
        "!polyglot download embeddings2.fr ner2.fr"
      ],
      "execution_count": 2,
      "outputs": [
        {
          "output_type": "stream",
          "text": [
            "[polyglot_data] Downloading package embeddings2.fr to\n",
            "[polyglot_data]     /root/polyglot_data...\n",
            "[polyglot_data] Downloading package ner2.fr to /root/polyglot_data...\n"
          ],
          "name": "stdout"
        }
      ]
    },
    {
      "cell_type": "code",
      "metadata": {
        "id": "icQ1daX3HJiX",
        "colab_type": "code",
        "colab": {}
      },
      "source": [
        "from polyglot.text import Text\n",
        "from bs4 import BeautifulSoup\n",
        "import requests\n",
        "import re"
      ],
      "execution_count": 0,
      "outputs": []
    },
    {
      "cell_type": "markdown",
      "metadata": {
        "id": "nZahwk7SXDM7",
        "colab_type": "text"
      },
      "source": [
        "Définition d'une fonction url_to_string qui récupère le contenu d'une page Web à partir de son url:"
      ]
    },
    {
      "cell_type": "code",
      "metadata": {
        "id": "LwzniWdpJ3NF",
        "colab_type": "code",
        "colab": {}
      },
      "source": [
        "def url_to_string(url):\n",
        "    res = requests.get(url)\n",
        "    html = res.text\n",
        "    soup = BeautifulSoup(html, 'html5lib')\n",
        "    for script in soup([\"script\", \"style\", 'aside']):\n",
        "        script.extract()\n",
        "    return \" \".join(re.split(r'[\\n\\t]+', soup.get_text()))"
      ],
      "execution_count": 0,
      "outputs": []
    },
    {
      "cell_type": "markdown",
      "metadata": {
        "id": "3x0x7-hOXSHB",
        "colab_type": "text"
      },
      "source": [
        "J'effectue des essais sur le texte du Comte de Monte Cristo (A. Dumas). \n",
        "Le site où je récupère le texte ne comporte pas de balises pour délimiter la partie qui m'intéresse, donc j'utilise des champs spécifiques pour ne conserver que le texte du livre."
      ]
    },
    {
      "cell_type": "code",
      "metadata": {
        "id": "p03VAzGkWKJk",
        "colab_type": "code",
        "colab": {}
      },
      "source": [
        "url = \"http://textes.libres.free.fr/francais/alexandre-dumas-pere_le-comte-de-monte-cristo-tome-i.htm\"\n",
        "\n",
        "page_content = url_to_string(url)\n",
        "\n",
        "start_phrase = r'TEXTE INTÉGRAL'\n",
        "end_phrase = r'FIN DU TOME'\n",
        "start = next(re.finditer(start_phrase, page_content)).end() + 1\n",
        "end = next(re.finditer(end_phrase, page_content)).start()"
      ],
      "execution_count": 0,
      "outputs": []
    },
    {
      "cell_type": "code",
      "metadata": {
        "id": "ZMKuIMeGNk9B",
        "colab_type": "code",
        "colab": {}
      },
      "source": [
        "texte = page_content[start:end]"
      ],
      "execution_count": 0,
      "outputs": []
    },
    {
      "cell_type": "markdown",
      "metadata": {
        "id": "3sKjnilSAs4_",
        "colab_type": "text"
      },
      "source": [
        "On utilise donc la librairie polyglot pour identifier les entités, et plus précisément la classe Text.\n",
        "On commence par imprimer les entités trouvées dans le texte:"
      ]
    },
    {
      "cell_type": "code",
      "metadata": {
        "id": "SbriDM1eAtOb",
        "colab_type": "code",
        "outputId": "b346135b-8fc6-4289-e4ee-b63287c12965",
        "colab": {
          "base_uri": "https://localhost:8080/",
          "height": 187
        }
      },
      "source": [
        "# Create a new text object using Polyglot's Text class: txt\n",
        "txt = Text(texte)\n",
        "\n",
        "# Print each of the entities found\n",
        "for ent in txt.entities[10:20]:\n",
        "    print(ent)"
      ],
      "execution_count": 8,
      "outputs": [
        {
          "output_type": "stream",
          "text": [
            "['Jaros']\n",
            "['beaupré']\n",
            "['beaupré', 'décrochés']\n",
            "['Marseille']\n",
            "['Saint', '-', 'Jean']\n",
            "['Réserve']\n",
            "['Dantès']\n",
            "['Morrel', '!']\n",
            "['Civita', '-', 'Vecchia']\n",
            "['Leclère']\n"
          ],
          "name": "stdout"
        }
      ]
    },
    {
      "cell_type": "code",
      "metadata": {
        "id": "vp9w0RnhYZcU",
        "colab_type": "code",
        "outputId": "bab9ba2e-096b-499f-9fde-ead84a1053a8",
        "colab": {
          "base_uri": "https://localhost:8080/",
          "height": 34
        }
      },
      "source": [
        "# Print the type of ent\n",
        "print(type(ent))"
      ],
      "execution_count": 0,
      "outputs": [
        {
          "output_type": "stream",
          "text": [
            "<class 'polyglot.text.Chunk'>\n"
          ],
          "name": "stdout"
        }
      ]
    },
    {
      "cell_type": "markdown",
      "metadata": {
        "id": "mXMEGMlhAtZ6",
        "colab_type": "text"
      },
      "source": [
        "Je crée une liste de tuples de la forme( type d'entité, entité du texte)"
      ]
    },
    {
      "cell_type": "code",
      "metadata": {
        "id": "29zhSoDaAtkB",
        "colab_type": "code",
        "outputId": "87cd03a3-0a3c-4bdf-a2fa-7872f0eaa086",
        "colab": {
          "base_uri": "https://localhost:8080/",
          "height": 54
        }
      },
      "source": [
        "# Create the list of tuples: entities\n",
        "entities = [(ent.tag, ' '.join(ent)) for ent in txt.entities]\n",
        "\n",
        "# Print entities\n",
        "print(entities[10:20])"
      ],
      "execution_count": 14,
      "outputs": [
        {
          "output_type": "stream",
          "text": [
            "[('I-LOC', 'Jaros'), ('I-PER', 'beaupré'), ('I-LOC', 'beaupré décrochés'), ('I-LOC', 'Marseille'), ('I-LOC', 'Saint - Jean'), ('I-ORG', 'Réserve'), ('I-PER', 'Dantès'), ('I-PER', 'Morrel !'), ('I-LOC', 'Civita - Vecchia'), ('I-PER', 'Leclère')]\n"
          ],
          "name": "stdout"
        }
      ]
    },
    {
      "cell_type": "markdown",
      "metadata": {
        "id": "gCanV3l5Att-",
        "colab_type": "text"
      },
      "source": [
        "On trouve des entités de Lieu (Marseille, Saint-Jean), ainsi que des personnes (Dantès, Morrel)"
      ]
    }
  ]
}