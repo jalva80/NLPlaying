{
  "nbformat": 4,
  "nbformat_minor": 0,
  "metadata": {
    "colab": {
      "name": "NER_polyglot.ipynb",
      "provenance": [],
      "collapsed_sections": [],
      "authorship_tag": "ABX9TyNhLbFNckwsPbOoc+5xUkPK",
      "include_colab_link": true
    },
    "kernelspec": {
      "name": "python3",
      "display_name": "Python 3"
    }
  },
  "cells": [
    {
      "cell_type": "markdown",
      "metadata": {
        "id": "view-in-github",
        "colab_type": "text"
      },
      "source": [
        "<a href=\"https://colab.research.google.com/github/jalva80/NLPlaying/blob/master/NER_polyglot.ipynb\" target=\"_parent\"><img src=\"https://colab.research.google.com/assets/colab-badge.svg\" alt=\"Open In Colab\"/></a>"
      ]
    },
    {
      "cell_type": "markdown",
      "metadata": {
        "id": "bfxxSJjnWMI6",
        "colab_type": "text"
      },
      "source": [
        "Reconnaissance d'Entités Nommées sur un texte rédigé en langue française à l'aide de la librairie polyglot.\n",
        "https://polyglot.readthedocs.io/en/latest/index.html\n"
      ]
    },
    {
      "cell_type": "markdown",
      "metadata": {
        "id": "jYfAHiaXWhwD",
        "colab_type": "text"
      },
      "source": [
        "Téléchargement des librairies non disponibles sur Google Colaboratory"
      ]
    },
    {
      "cell_type": "code",
      "metadata": {
        "id": "Lwz8yhigETmT",
        "colab_type": "code",
        "outputId": "bd4078f6-7e2c-441c-db4b-13477e7c8d0a",
        "colab": {
          "base_uri": "https://localhost:8080/",
          "height": 85
        }
      },
      "source": [
        "!pip install polyglot\n",
        "!pip install PyICU\n",
        "!pip install pycld2\n",
        "!pip install morfessor"
      ],
      "execution_count": 68,
      "outputs": [
        {
          "output_type": "stream",
          "text": [
            "Requirement already satisfied: polyglot in /usr/local/lib/python3.6/dist-packages (16.7.4)\n",
            "Requirement already satisfied: PyICU in /usr/local/lib/python3.6/dist-packages (2.5)\n",
            "Requirement already satisfied: pycld2 in /usr/local/lib/python3.6/dist-packages (0.41)\n",
            "Requirement already satisfied: morfessor in /usr/local/lib/python3.6/dist-packages (2.0.6)\n"
          ],
          "name": "stdout"
        }
      ]
    },
    {
      "cell_type": "markdown",
      "metadata": {
        "id": "BfwYLXdcWpEQ",
        "colab_type": "text"
      },
      "source": [
        "Téléchargement des éléments du modèle français."
      ]
    },
    {
      "cell_type": "code",
      "metadata": {
        "id": "Y_IOaIcOFcz2",
        "colab_type": "code",
        "outputId": "9ba4c948-65cc-40a0-e561-ad0456dde3c2",
        "colab": {
          "base_uri": "https://localhost:8080/",
          "height": 102
        }
      },
      "source": [
        "!polyglot download embeddings2.fr ner2.fr"
      ],
      "execution_count": 69,
      "outputs": [
        {
          "output_type": "stream",
          "text": [
            "[polyglot_data] Downloading package embeddings2.fr to\n",
            "[polyglot_data]     /root/polyglot_data...\n",
            "[polyglot_data]   Package embeddings2.fr is already up-to-date!\n",
            "[polyglot_data] Downloading package ner2.fr to /root/polyglot_data...\n",
            "[polyglot_data]   Package ner2.fr is already up-to-date!\n"
          ],
          "name": "stdout"
        }
      ]
    },
    {
      "cell_type": "code",
      "metadata": {
        "id": "icQ1daX3HJiX",
        "colab_type": "code",
        "colab": {}
      },
      "source": [
        "from polyglot.text import Text\n",
        "from bs4 import BeautifulSoup\n",
        "import requests\n",
        "import re"
      ],
      "execution_count": 0,
      "outputs": []
    },
    {
      "cell_type": "markdown",
      "metadata": {
        "id": "nZahwk7SXDM7",
        "colab_type": "text"
      },
      "source": [
        "Définition d'une fonction url_to_string qui récupère le contenu d'une page Web à partir de son url:"
      ]
    },
    {
      "cell_type": "code",
      "metadata": {
        "id": "LwzniWdpJ3NF",
        "colab_type": "code",
        "colab": {}
      },
      "source": [
        "def url_to_string(url):\n",
        "    res = requests.get(url)\n",
        "    html = res.text\n",
        "    soup = BeautifulSoup(html, 'html5lib')\n",
        "    for script in soup([\"script\", \"style\", 'aside']):\n",
        "        script.extract()\n",
        "    return \" \".join(re.split(r'[\\n\\t]+', soup.get_text()))"
      ],
      "execution_count": 0,
      "outputs": []
    },
    {
      "cell_type": "markdown",
      "metadata": {
        "id": "3x0x7-hOXSHB",
        "colab_type": "text"
      },
      "source": [
        "J'effectue des essais sur le texte du Comte de Monte Cristo (A. Dumas). \n",
        "Le site où je récupère le texte ne comporte pas de balises pour délimiter la partie qui m'intéresse, donc j'utilise des champs spécifiques pour ne conserver que le texte du livre."
      ]
    },
    {
      "cell_type": "code",
      "metadata": {
        "id": "p03VAzGkWKJk",
        "colab_type": "code",
        "colab": {}
      },
      "source": [
        "url = \"http://textes.libres.free.fr/francais/alexandre-dumas-pere_le-comte-de-monte-cristo-tome-i.htm\"\n",
        "\n",
        "page_content = url_to_string(url)\n",
        "\n",
        "start_phrase = r'TEXTE INTÉGRAL'\n",
        "end_phrase = r'FIN DU TOME'\n",
        "start = next(re.finditer(start_phrase, page_content)).end() + 1\n",
        "end = next(re.finditer(end_phrase, page_content)).start()"
      ],
      "execution_count": 0,
      "outputs": []
    },
    {
      "cell_type": "code",
      "metadata": {
        "id": "ZMKuIMeGNk9B",
        "colab_type": "code",
        "colab": {}
      },
      "source": [
        "texte = page_content[start:end]"
      ],
      "execution_count": 0,
      "outputs": []
    },
    {
      "cell_type": "markdown",
      "metadata": {
        "id": "3sKjnilSAs4_",
        "colab_type": "text"
      },
      "source": [
        "On utilise donc la librairie polyglot pour identifier les entités, et plus précisément la classe Text.\n",
        "On commence par imprimer les entités trouvées dans le texte:"
      ]
    },
    {
      "cell_type": "code",
      "metadata": {
        "id": "SbriDM1eAtOb",
        "colab_type": "code",
        "outputId": "d1d11c64-0bf9-4553-e462-4e55fca0b6c5",
        "colab": {
          "base_uri": "https://localhost:8080/",
          "height": 187
        }
      },
      "source": [
        "# Create a new text object using Polyglot's Text class: txt\n",
        "txt = Text(texte)\n",
        "\n",
        "# Print each of the entities found\n",
        "for ent in txt.entities[:10]:\n",
        "    print(ent)"
      ],
      "execution_count": 74,
      "outputs": [
        {
          "output_type": "stream",
          "text": [
            "['Marseille']\n",
            "['Notre']\n",
            "['Smyrne']\n",
            "['Trieste']\n",
            "['Naples']\n",
            "['côtier']\n",
            "['Rion']\n",
            "['Marseille']\n",
            "['Phocée']\n",
            "['Calasareigne']\n"
          ],
          "name": "stdout"
        }
      ]
    },
    {
      "cell_type": "code",
      "metadata": {
        "id": "vp9w0RnhYZcU",
        "colab_type": "code",
        "colab": {
          "base_uri": "https://localhost:8080/",
          "height": 34
        },
        "outputId": "bab9ba2e-096b-499f-9fde-ead84a1053a8"
      },
      "source": [
        "# Print the type of ent\n",
        "print(type(ent))"
      ],
      "execution_count": 75,
      "outputs": [
        {
          "output_type": "stream",
          "text": [
            "<class 'polyglot.text.Chunk'>\n"
          ],
          "name": "stdout"
        }
      ]
    },
    {
      "cell_type": "markdown",
      "metadata": {
        "id": "mXMEGMlhAtZ6",
        "colab_type": "text"
      },
      "source": [
        "Je crée une liste de tuples de la forme( type d'entité, entité du texte)"
      ]
    },
    {
      "cell_type": "code",
      "metadata": {
        "id": "29zhSoDaAtkB",
        "colab_type": "code",
        "outputId": "5c220c55-bafe-4b30-f4a1-cc8226815de7",
        "colab": {
          "base_uri": "https://localhost:8080/",
          "height": 54
        }
      },
      "source": [
        "# Create the list of tuples: entities\n",
        "entities = [(ent.tag, ' '.join(ent)) for ent in txt.entities]\n",
        "\n",
        "# Print entities\n",
        "print(entities[:10])"
      ],
      "execution_count": 76,
      "outputs": [
        {
          "output_type": "stream",
          "text": [
            "[('I-PER', 'Marseille'), ('I-LOC', 'Notre'), ('I-LOC', 'Smyrne'), ('I-LOC', 'Trieste'), ('I-LOC', 'Naples'), ('I-LOC', 'côtier'), ('I-LOC', 'Rion'), ('I-LOC', 'Marseille'), ('I-LOC', 'Phocée'), ('I-LOC', 'Calasareigne')]\n"
          ],
          "name": "stdout"
        }
      ]
    },
    {
      "cell_type": "markdown",
      "metadata": {
        "id": "gCanV3l5Att-",
        "colab_type": "text"
      },
      "source": [
        ""
      ]
    }
  ]
}