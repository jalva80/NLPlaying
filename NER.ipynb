{
  "nbformat": 4,
  "nbformat_minor": 0,
  "metadata": {
    "colab": {
      "name": "NER.ipynb",
      "provenance": [],
      "collapsed_sections": [],
      "authorship_tag": "ABX9TyPE8SfsbOphG+p4lyuWg5is",
      "include_colab_link": true
    },
    "kernelspec": {
      "name": "python3",
      "display_name": "Python 3"
    }
  },
  "cells": [
    {
      "cell_type": "markdown",
      "metadata": {
        "id": "view-in-github",
        "colab_type": "text"
      },
      "source": [
        "<a href=\"https://colab.research.google.com/github/jalva80/NLPlaying/blob/master/NER.ipynb\" target=\"_parent\"><img src=\"https://colab.research.google.com/assets/colab-badge.svg\" alt=\"Open In Colab\"/></a>"
      ]
    },
    {
      "cell_type": "markdown",
      "metadata": {
        "id": "xXi4pfUGzNnV",
        "colab_type": "text"
      },
      "source": [
        "# Natural Language Processing - Named Entity Recognition\n",
        "Notebook de jeu avec la reconnaissance d'entités nommées."
      ]
    },
    {
      "cell_type": "markdown",
      "metadata": {
        "id": "wruLdQC9zRgC",
        "colab_type": "text"
      },
      "source": [
        "# Librairies\n",
        "\n",
        "Utilisation de NLTK et Spacy pour la reconnaissance d'entités nommées dans des textes bruts rédigés en français."
      ]
    },
    {
      "cell_type": "code",
      "metadata": {
        "id": "mSaOeizEyMTK",
        "colab_type": "code",
        "colab": {}
      },
      "source": [
        "import nltk\n",
        "from nltk.tokenize import word_tokenize\n",
        "from nltk.tag import pos_tag"
      ],
      "execution_count": 0,
      "outputs": []
    },
    {
      "cell_type": "code",
      "metadata": {
        "id": "HmQdtyvvOnnP",
        "colab_type": "code",
        "outputId": "194f848c-b211-4227-fcbf-dc9354120d1b",
        "colab": {
          "base_uri": "https://localhost:8080/",
          "height": 119
        }
      },
      "source": [
        "nltk.download('punkt')\n",
        "nltk.download('averaged_perceptron_tagger')"
      ],
      "execution_count": 2,
      "outputs": [
        {
          "output_type": "stream",
          "text": [
            "[nltk_data] Downloading package punkt to /root/nltk_data...\n",
            "[nltk_data]   Unzipping tokenizers/punkt.zip.\n",
            "[nltk_data] Downloading package averaged_perceptron_tagger to\n",
            "[nltk_data]     /root/nltk_data...\n",
            "[nltk_data]   Unzipping taggers/averaged_perceptron_tagger.zip.\n"
          ],
          "name": "stdout"
        },
        {
          "output_type": "execute_result",
          "data": {
            "text/plain": [
              "True"
            ]
          },
          "metadata": {
            "tags": []
          },
          "execution_count": 2
        }
      ]
    },
    {
      "cell_type": "code",
      "metadata": {
        "id": "fN6DvHMMOnYx",
        "colab_type": "code",
        "colab": {}
      },
      "source": [
        "\n",
        "from nltk.chunk import ne_chunk"
      ],
      "execution_count": 0,
      "outputs": []
    },
    {
      "cell_type": "markdown",
      "metadata": {
        "id": "c7dzBWoaDldq",
        "colab_type": "text"
      },
      "source": [
        "### Extraction des informations\n",
        "On commence par voir ce que l'on obtient avec un extrait. (*Romeo and Juliet*, William Shakespeare)"
      ]
    },
    {
      "cell_type": "code",
      "metadata": {
        "id": "Yt84xTUbDsRi",
        "colab_type": "code",
        "colab": {}
      },
      "source": [
        "exple = \"\"\"Benvolio, Old Montague's nephew, heard the fighting. He didn't really like the feud between his family and the Capulets.\"\"\""
      ],
      "execution_count": 0,
      "outputs": []
    },
    {
      "cell_type": "markdown",
      "metadata": {
        "id": "OVmnFK_mDqTH",
        "colab_type": "text"
      },
      "source": [
        "On applique la tokenisation et le part-of-speech tagging (categorisation du type d'information) à notre phrase d'exemple."
      ]
    },
    {
      "cell_type": "code",
      "metadata": {
        "id": "VrzFJnEXDrOP",
        "colab_type": "code",
        "colab": {}
      },
      "source": [
        "exTok = word_tokenize(exple)\n",
        "exTag = pos_tag(exTok)"
      ],
      "execution_count": 0,
      "outputs": []
    },
    {
      "cell_type": "markdown",
      "metadata": {
        "id": "hhSJpTmHLoVV",
        "colab_type": "text"
      },
      "source": [
        "On observe ce que l'on obtient."
      ]
    },
    {
      "cell_type": "code",
      "metadata": {
        "id": "H0Hv2b9wK3Lt",
        "colab_type": "code",
        "outputId": "c76ca07e-0d3b-47f6-adf0-5d024ffce727",
        "colab": {
          "base_uri": "https://localhost:8080/",
          "height": 442
        }
      },
      "source": [
        "exTag"
      ],
      "execution_count": 7,
      "outputs": [
        {
          "output_type": "execute_result",
          "data": {
            "text/plain": [
              "[('Benvolio', 'NNP'),\n",
              " (',', ','),\n",
              " ('Old', 'NNP'),\n",
              " ('Montague', 'NNP'),\n",
              " (\"'s\", 'POS'),\n",
              " ('nephew', 'NN'),\n",
              " (',', ','),\n",
              " ('heard', 'VBD'),\n",
              " ('the', 'DT'),\n",
              " ('fighting', 'NN'),\n",
              " ('.', '.'),\n",
              " ('He', 'PRP'),\n",
              " ('did', 'VBD'),\n",
              " (\"n't\", 'RB'),\n",
              " ('really', 'RB'),\n",
              " ('like', 'IN'),\n",
              " ('the', 'DT'),\n",
              " ('feud', 'NN'),\n",
              " ('between', 'IN'),\n",
              " ('his', 'PRP$'),\n",
              " ('family', 'NN'),\n",
              " ('and', 'CC'),\n",
              " ('the', 'DT'),\n",
              " ('Capulets', 'NNPS'),\n",
              " ('.', '.')]"
            ]
          },
          "metadata": {
            "tags": []
          },
          "execution_count": 7
        }
      ]
    },
    {
      "cell_type": "markdown",
      "metadata": {
        "id": "nxe_3Jl5Dq6q",
        "colab_type": "text"
      },
      "source": [
        "On obtient des paires (mot, type d'information). On va alors segmenter la phrase pour identifier les entitées nommées à partir d'une expression régulière indiquant les règles de segmentation d'une phrase.\n",
        "Cette trame de segmentation consiste en une règle: un groupe nominal NP est formée lorsque l'on a un déterminant optionnel DT, suivi par n'importe quelle quantité d'adjectifs JJ, puis un nom NN."
      ]
    },
    {
      "cell_type": "code",
      "metadata": {
        "id": "307iXBK_9xz2",
        "colab_type": "code",
        "colab": {}
      },
      "source": [
        "pattern = 'NP: {<DT>?<JJ>*<NN>}'"
      ],
      "execution_count": 0,
      "outputs": []
    },
    {
      "cell_type": "markdown",
      "metadata": {
        "id": "mpB8b8AKtWEX",
        "colab_type": "text"
      },
      "source": [
        "**Découpage**\n",
        "\n",
        "(Chunk)\n",
        "A partir de ce pattern, je crée un partitionner et je le teste sur la phrase."
      ]
    },
    {
      "cell_type": "code",
      "metadata": {
        "id": "X6oAW8xOtVm-",
        "colab_type": "code",
        "outputId": "a4bb53fa-75ae-40d8-e585-215899820613",
        "colab": {
          "base_uri": "https://localhost:8080/",
          "height": 425
        }
      },
      "source": [
        "cp = nltk.RegexpParser(pattern)\n",
        "cs = cp.parse(exTag)\n",
        "print(cs)"
      ],
      "execution_count": 9,
      "outputs": [
        {
          "output_type": "stream",
          "text": [
            "(S\n",
            "  Benvolio/NNP\n",
            "  ,/,\n",
            "  Old/NNP\n",
            "  Montague/NNP\n",
            "  's/POS\n",
            "  (NP nephew/NN)\n",
            "  ,/,\n",
            "  heard/VBD\n",
            "  (NP the/DT fighting/NN)\n",
            "  ./.\n",
            "  He/PRP\n",
            "  did/VBD\n",
            "  n't/RB\n",
            "  really/RB\n",
            "  like/IN\n",
            "  (NP the/DT feud/NN)\n",
            "  between/IN\n",
            "  his/PRP$\n",
            "  (NP family/NN)\n",
            "  and/CC\n",
            "  the/DT\n",
            "  Capulets/NNPS\n",
            "  ./.)\n"
          ],
          "name": "stdout"
        }
      ]
    },
    {
      "cell_type": "markdown",
      "metadata": {
        "id": "RaPMn_2Btm2q",
        "colab_type": "text"
      },
      "source": [
        "La fonction renvoie une hierarchie des éléments de la phrase."
      ]
    },
    {
      "cell_type": "code",
      "metadata": {
        "id": "psmykRootoWy",
        "colab_type": "code",
        "outputId": "7a6e65d4-aadb-4f09-bd59-dc647eacc007",
        "colab": {
          "base_uri": "https://localhost:8080/",
          "height": 442
        }
      },
      "source": [
        "from nltk.chunk import conlltags2tree, tree2conlltags\n",
        "from pprint import pprint\n",
        "iob_tagged = tree2conlltags(cs)\n",
        "pprint(iob_tagged)"
      ],
      "execution_count": 10,
      "outputs": [
        {
          "output_type": "stream",
          "text": [
            "[('Benvolio', 'NNP', 'O'),\n",
            " (',', ',', 'O'),\n",
            " ('Old', 'NNP', 'O'),\n",
            " ('Montague', 'NNP', 'O'),\n",
            " (\"'s\", 'POS', 'O'),\n",
            " ('nephew', 'NN', 'B-NP'),\n",
            " (',', ',', 'O'),\n",
            " ('heard', 'VBD', 'O'),\n",
            " ('the', 'DT', 'B-NP'),\n",
            " ('fighting', 'NN', 'I-NP'),\n",
            " ('.', '.', 'O'),\n",
            " ('He', 'PRP', 'O'),\n",
            " ('did', 'VBD', 'O'),\n",
            " (\"n't\", 'RB', 'O'),\n",
            " ('really', 'RB', 'O'),\n",
            " ('like', 'IN', 'O'),\n",
            " ('the', 'DT', 'B-NP'),\n",
            " ('feud', 'NN', 'I-NP'),\n",
            " ('between', 'IN', 'O'),\n",
            " ('his', 'PRP$', 'O'),\n",
            " ('family', 'NN', 'B-NP'),\n",
            " ('and', 'CC', 'O'),\n",
            " ('the', 'DT', 'O'),\n",
            " ('Capulets', 'NNPS', 'O'),\n",
            " ('.', '.', 'O')]\n"
          ],
          "name": "stdout"
        }
      ]
    },
    {
      "cell_type": "markdown",
      "metadata": {
        "id": "NANGK_RstqpW",
        "colab_type": "text"
      },
      "source": [
        "chaque mot est affiché avec son label PoS son repère d'entité nommée"
      ]
    },
    {
      "cell_type": "code",
      "metadata": {
        "id": "kbJunKIaLTVq",
        "colab_type": "code",
        "outputId": "95df2b09-b756-4e7e-e9c4-1abe727bc1f3",
        "colab": {
          "base_uri": "https://localhost:8080/",
          "height": 119
        }
      },
      "source": [
        "nltk.download('maxent_ne_chunker')\n",
        "nltk.download('words')"
      ],
      "execution_count": 11,
      "outputs": [
        {
          "output_type": "stream",
          "text": [
            "[nltk_data] Downloading package maxent_ne_chunker to\n",
            "[nltk_data]     /root/nltk_data...\n",
            "[nltk_data]   Unzipping chunkers/maxent_ne_chunker.zip.\n",
            "[nltk_data] Downloading package words to /root/nltk_data...\n",
            "[nltk_data]   Unzipping corpora/words.zip.\n"
          ],
          "name": "stdout"
        },
        {
          "output_type": "execute_result",
          "data": {
            "text/plain": [
              "True"
            ]
          },
          "metadata": {
            "tags": []
          },
          "execution_count": 11
        }
      ]
    },
    {
      "cell_type": "code",
      "metadata": {
        "id": "Y46Wao7DtwdG",
        "colab_type": "code",
        "outputId": "d9b24a8d-46e6-4260-b672-d41feba819e9",
        "colab": {
          "base_uri": "https://localhost:8080/",
          "height": 442
        }
      },
      "source": [
        "ne_tree = ne_chunk(pos_tag(word_tokenize(exple)))\n",
        "print(ne_tree)"
      ],
      "execution_count": 12,
      "outputs": [
        {
          "output_type": "stream",
          "text": [
            "(S\n",
            "  (GPE Benvolio/NNP)\n",
            "  ,/,\n",
            "  (PERSON Old/NNP Montague/NNP)\n",
            "  's/POS\n",
            "  nephew/NN\n",
            "  ,/,\n",
            "  heard/VBD\n",
            "  the/DT\n",
            "  fighting/NN\n",
            "  ./.\n",
            "  He/PRP\n",
            "  did/VBD\n",
            "  n't/RB\n",
            "  really/RB\n",
            "  like/IN\n",
            "  the/DT\n",
            "  feud/NN\n",
            "  between/IN\n",
            "  his/PRP$\n",
            "  family/NN\n",
            "  and/CC\n",
            "  the/DT\n",
            "  (ORGANIZATION Capulets/NNPS)\n",
            "  ./.)\n"
          ],
          "name": "stdout"
        }
      ]
    },
    {
      "cell_type": "markdown",
      "metadata": {
        "id": "PazPowiJt077",
        "colab_type": "text"
      },
      "source": [
        "**Entité**"
      ]
    },
    {
      "cell_type": "code",
      "metadata": {
        "id": "O1qKvHYwt3OH",
        "colab_type": "code",
        "colab": {}
      },
      "source": [
        "import spacy\n",
        "from spacy import displacy\n",
        "from collections import Counter\n",
        "import en_core_web_sm\n",
        "nlp = en_core_web_sm.load()"
      ],
      "execution_count": 0,
      "outputs": []
    },
    {
      "cell_type": "code",
      "metadata": {
        "id": "Zz83h3htt7NL",
        "colab_type": "code",
        "outputId": "7855e8fc-01fe-4e01-dcff-17de93bdce49",
        "colab": {
          "base_uri": "https://localhost:8080/",
          "height": 85
        }
      },
      "source": [
        "doc = nlp('European authorities fined Google a record $5.1 billion on Wednesday for abusing its power in the mobile phone market and ordered the company to alter its practices')\n",
        "pprint([(X.text, X.label_) for X in doc.ents])"
      ],
      "execution_count": 14,
      "outputs": [
        {
          "output_type": "stream",
          "text": [
            "[('European', 'NORP'),\n",
            " ('Google', 'ORG'),\n",
            " ('$5.1 billion', 'MONEY'),\n",
            " ('Wednesday', 'DATE')]\n"
          ],
          "name": "stdout"
        }
      ]
    },
    {
      "cell_type": "markdown",
      "metadata": {
        "id": "yIMmERSLt8SR",
        "colab_type": "text"
      },
      "source": [
        "NORP = nationalities or religious or political groups"
      ]
    },
    {
      "cell_type": "code",
      "metadata": {
        "id": "PdCy4qFbuD63",
        "colab_type": "code",
        "outputId": "80f8e3c6-00a8-47e2-900a-5506090c2398",
        "colab": {
          "base_uri": "https://localhost:8080/",
          "height": 493
        }
      },
      "source": [
        "pprint([(X, X.ent_iob_, X.ent_type_) for X in doc])"
      ],
      "execution_count": 15,
      "outputs": [
        {
          "output_type": "stream",
          "text": [
            "[(European, 'B', 'NORP'),\n",
            " (authorities, 'O', ''),\n",
            " (fined, 'O', ''),\n",
            " (Google, 'B', 'ORG'),\n",
            " (a, 'O', ''),\n",
            " (record, 'O', ''),\n",
            " ($, 'B', 'MONEY'),\n",
            " (5.1, 'I', 'MONEY'),\n",
            " (billion, 'I', 'MONEY'),\n",
            " (on, 'O', ''),\n",
            " (Wednesday, 'B', 'DATE'),\n",
            " (for, 'O', ''),\n",
            " (abusing, 'O', ''),\n",
            " (its, 'O', ''),\n",
            " (power, 'O', ''),\n",
            " (in, 'O', ''),\n",
            " (the, 'O', ''),\n",
            " (mobile, 'O', ''),\n",
            " (phone, 'O', ''),\n",
            " (market, 'O', ''),\n",
            " (and, 'O', ''),\n",
            " (ordered, 'O', ''),\n",
            " (the, 'O', ''),\n",
            " (company, 'O', ''),\n",
            " (to, 'O', ''),\n",
            " (alter, 'O', ''),\n",
            " (its, 'O', ''),\n",
            " (practices, 'O', '')]\n"
          ],
          "name": "stdout"
        }
      ]
    },
    {
      "cell_type": "markdown",
      "metadata": {
        "id": "An5OZyIQuGH1",
        "colab_type": "text"
      },
      "source": [
        "\"B\"egin : la marque est au début d'une entité\n",
        "\n",
        "\"I\"n : la marque est dans une entité\n",
        "\n",
        "\"L\"ast : la marque est à la fin d'une entité\n",
        "\n",
        "\"O\"ut : la marque est en dehors d'une entité\n",
        "\n",
        "\"U\"nit: marque unique d'une entité\n",
        "\n",
        "\"\" : aucune marque d'entité n'est créée.\n",
        "\n",
        "Je vais maintenant extraire les entités nommées d'un extrait plus long."
      ]
    },
    {
      "cell_type": "code",
      "metadata": {
        "id": "zKEva5DOMEwL",
        "colab_type": "code",
        "colab": {}
      },
      "source": [
        "extrait2 = \"\"\"Friar Lawrence was preparing Romeo for the wedding. He wasn't sure if this wedding was the right tiling to do. Marrying two young people without their parents' permission was not right. He wanted this marriage to bring the two families closer together, but he wasn't sure if it would.\n",
        "\n",
        "\"Will they get angry? Will they get angry with me?\" he thought.\n",
        "Amen already,\" said Romeo. He was impatient from waiting on Friar Lawrence.\n",
        "\n",
        "\"Calm yourself, Romeo,\" scolded Friar Lawrence. \"You need to live and love moderately. If not, neither love nor life will last long.\"\n",
        "\n",
        "But he knew Romeo wouldn't be calm. Neither would Juliet. Then Juliet came running toward the church.\n",
        "\n",
        "\"I should send both of them home,\" thought Friar Lawrence. But he knew he couldn't do that.\n",
        "\n",
        "\"Good afternoon, Father,\" sang Juliet. She jumped into Romeo's arms.\n",
        "\n",
        "\"Juliet!\" cried Romeo, holding her. \"Please tell me you love me as much as I love you! And how happy you will be after we are married.\"\n",
        "\n",
        "\"I love you so much that words can't describe it,\" she said and kissed him.\"\"\""
      ],
      "execution_count": 0,
      "outputs": []
    },
    {
      "cell_type": "code",
      "metadata": {
        "id": "b4BaPiMQQFvC",
        "colab_type": "code",
        "outputId": "3bd7f40d-8af0-4fe9-c911-36f4811f48a0",
        "colab": {
          "base_uri": "https://localhost:8080/",
          "height": 34
        }
      },
      "source": [
        "article = nlp(\" \".join(re.split(r'[\\n\\t]+', extrait2)))\n",
        "len(article.ents)"
      ],
      "execution_count": 25,
      "outputs": [
        {
          "output_type": "execute_result",
          "data": {
            "text/plain": [
              "16"
            ]
          },
          "metadata": {
            "tags": []
          },
          "execution_count": 25
        }
      ]
    },
    {
      "cell_type": "markdown",
      "metadata": {
        "id": "jaS36Bh3uKOQ",
        "colab_type": "text"
      },
      "source": [
        "il y a 16 entités détectées dans l'extrait, représentées par les étiquettes:"
      ]
    },
    {
      "cell_type": "code",
      "metadata": {
        "id": "XuvEM4qhuL0R",
        "colab_type": "code",
        "outputId": "eced211f-ee78-4f7c-b9a6-b80a3ede6145",
        "colab": {
          "base_uri": "https://localhost:8080/",
          "height": 34
        }
      },
      "source": [
        "labels = [x.label_ for x in article.ents]\n",
        "Counter(labels)"
      ],
      "execution_count": 26,
      "outputs": [
        {
          "output_type": "execute_result",
          "data": {
            "text/plain": [
              "Counter({'CARDINAL': 2, 'ORG': 1, 'PERSON': 11, 'TIME': 1, 'WORK_OF_ART': 1})"
            ]
          },
          "metadata": {
            "tags": []
          },
          "execution_count": 26
        }
      ]
    },
    {
      "cell_type": "markdown",
      "metadata": {
        "id": "yhb7ejXMuOA_",
        "colab_type": "text"
      },
      "source": [
        "Les trois marques les plus fréquentes sont:"
      ]
    },
    {
      "cell_type": "code",
      "metadata": {
        "id": "ZnZW20fvuPWx",
        "colab_type": "code",
        "outputId": "0aa1d689-7648-4aab-8763-6b018ed35a00",
        "colab": {
          "base_uri": "https://localhost:8080/",
          "height": 34
        }
      },
      "source": [
        "items = [x.text for x in article.ents]\n",
        "Counter(items).most_common(3)"
      ],
      "execution_count": 27,
      "outputs": [
        {
          "output_type": "execute_result",
          "data": {
            "text/plain": [
              "[('Romeo', 5), ('Friar Lawrence', 4), ('Juliet', 3)]"
            ]
          },
          "metadata": {
            "tags": []
          },
          "execution_count": 27
        }
      ]
    },
    {
      "cell_type": "markdown",
      "metadata": {
        "id": "eT0I1ej1uRSY",
        "colab_type": "text"
      },
      "source": [
        "je sélectionne une phrase de l'extrait"
      ]
    },
    {
      "cell_type": "code",
      "metadata": {
        "id": "efjtbjmkuSbK",
        "colab_type": "code",
        "outputId": "7d55cbed-2120-4345-a2ab-64606d16bbfd",
        "colab": {
          "base_uri": "https://localhost:8080/",
          "height": 204
        }
      },
      "source": [
        "sentences = [x for x in article.sents]\n",
        "for s in sentences[10]:\n",
        "  print(s)"
      ],
      "execution_count": 48,
      "outputs": [
        {
          "output_type": "stream",
          "text": [
            "\"\n",
            "Calm\n",
            "yourself\n",
            ",\n",
            "Romeo\n",
            ",\n",
            "\"\n",
            "scolded\n",
            "Friar\n",
            "Lawrence\n",
            ".\n"
          ],
          "name": "stdout"
        }
      ]
    },
    {
      "cell_type": "markdown",
      "metadata": {
        "id": "pSJ9XtCjuT7A",
        "colab_type": "text"
      },
      "source": [
        "J'utilise displacy.render pour générer un marquage basique.\n",
        "\n",
        "Avec la visualisation native de spaCy, on obtient la représentation des dépendances dans la phrase:"
      ]
    },
    {
      "cell_type": "code",
      "metadata": {
        "id": "kdZH6pnG2Tmq",
        "colab_type": "code",
        "outputId": "338ed4d7-db29-47f5-fbd6-7402641b11b4",
        "colab": {
          "base_uri": "https://localhost:8080/",
          "height": 52
        }
      },
      "source": [
        "displacy.render(nlp(str(sentences[10])), jupyter=True, style='ent')"
      ],
      "execution_count": 47,
      "outputs": [
        {
          "output_type": "display_data",
          "data": {
            "text/html": [
              "<span class=\"tex2jax_ignore\"><div class=\"entities\" style=\"line-height: 2.5; direction: ltr\">&quot;Calm yourself, \n",
              "<mark class=\"entity\" style=\"background: #aa9cfc; padding: 0.45em 0.6em; margin: 0 0.25em; line-height: 1; border-radius: 0.35em;\">\n",
              "    Romeo\n",
              "    <span style=\"font-size: 0.8em; font-weight: bold; line-height: 1; border-radius: 0.35em; text-transform: uppercase; vertical-align: middle; margin-left: 0.5rem\">PERSON</span>\n",
              "</mark>\n",
              ",&quot; scolded \n",
              "<mark class=\"entity\" style=\"background: #aa9cfc; padding: 0.45em 0.6em; margin: 0 0.25em; line-height: 1; border-radius: 0.35em;\">\n",
              "    Friar Lawrence\n",
              "    <span style=\"font-size: 0.8em; font-weight: bold; line-height: 1; border-radius: 0.35em; text-transform: uppercase; vertical-align: middle; margin-left: 0.5rem\">PERSON</span>\n",
              "</mark>\n",
              ".</div></span>"
            ],
            "text/plain": [
              "<IPython.core.display.HTML object>"
            ]
          },
          "metadata": {
            "tags": []
          }
        }
      ]
    },
    {
      "cell_type": "code",
      "metadata": {
        "id": "XQcSm2tQuY86",
        "colab_type": "code",
        "outputId": "4c969dba-9bb5-4c06-ccce-1738f71438a1",
        "colab": {
          "base_uri": "https://localhost:8080/",
          "height": 398
        }
      },
      "source": [
        "displacy.render(nlp(str(sentences[10])), style='dep', jupyter = True, options = {'distance': 120})"
      ],
      "execution_count": 45,
      "outputs": [
        {
          "output_type": "display_data",
          "data": {
            "text/html": [
              "<span class=\"tex2jax_ignore\"><svg xmlns=\"http://www.w3.org/2000/svg\" xmlns:xlink=\"http://www.w3.org/1999/xlink\" xml:lang=\"en\" id=\"d68311c78dac4506afb01f9e4cedcb54-0\" class=\"displacy\" width=\"890\" height=\"377.0\" direction=\"ltr\" style=\"max-width: none; height: 377.0px; color: #000000; background: #ffffff; font-family: Arial; direction: ltr\">\n",
              "<text class=\"displacy-token\" fill=\"currentColor\" text-anchor=\"middle\" y=\"287.0\">\n",
              "    <tspan class=\"displacy-word\" fill=\"currentColor\" x=\"50\">&quot;</tspan>\n",
              "    <tspan class=\"displacy-tag\" dy=\"2em\" fill=\"currentColor\" x=\"50\">PUNCT</tspan>\n",
              "</text>\n",
              "\n",
              "<text class=\"displacy-token\" fill=\"currentColor\" text-anchor=\"middle\" y=\"287.0\">\n",
              "    <tspan class=\"displacy-word\" fill=\"currentColor\" x=\"170\">Calm</tspan>\n",
              "    <tspan class=\"displacy-tag\" dy=\"2em\" fill=\"currentColor\" x=\"170\">VERB</tspan>\n",
              "</text>\n",
              "\n",
              "<text class=\"displacy-token\" fill=\"currentColor\" text-anchor=\"middle\" y=\"287.0\">\n",
              "    <tspan class=\"displacy-word\" fill=\"currentColor\" x=\"290\">yourself,</tspan>\n",
              "    <tspan class=\"displacy-tag\" dy=\"2em\" fill=\"currentColor\" x=\"290\">PRON</tspan>\n",
              "</text>\n",
              "\n",
              "<text class=\"displacy-token\" fill=\"currentColor\" text-anchor=\"middle\" y=\"287.0\">\n",
              "    <tspan class=\"displacy-word\" fill=\"currentColor\" x=\"410\">Romeo,&quot;</tspan>\n",
              "    <tspan class=\"displacy-tag\" dy=\"2em\" fill=\"currentColor\" x=\"410\">PROPN</tspan>\n",
              "</text>\n",
              "\n",
              "<text class=\"displacy-token\" fill=\"currentColor\" text-anchor=\"middle\" y=\"287.0\">\n",
              "    <tspan class=\"displacy-word\" fill=\"currentColor\" x=\"530\">scolded</tspan>\n",
              "    <tspan class=\"displacy-tag\" dy=\"2em\" fill=\"currentColor\" x=\"530\">VERB</tspan>\n",
              "</text>\n",
              "\n",
              "<text class=\"displacy-token\" fill=\"currentColor\" text-anchor=\"middle\" y=\"287.0\">\n",
              "    <tspan class=\"displacy-word\" fill=\"currentColor\" x=\"650\">Friar</tspan>\n",
              "    <tspan class=\"displacy-tag\" dy=\"2em\" fill=\"currentColor\" x=\"650\">PROPN</tspan>\n",
              "</text>\n",
              "\n",
              "<text class=\"displacy-token\" fill=\"currentColor\" text-anchor=\"middle\" y=\"287.0\">\n",
              "    <tspan class=\"displacy-word\" fill=\"currentColor\" x=\"770\">Lawrence.</tspan>\n",
              "    <tspan class=\"displacy-tag\" dy=\"2em\" fill=\"currentColor\" x=\"770\">PROPN</tspan>\n",
              "</text>\n",
              "\n",
              "<g class=\"displacy-arrow\">\n",
              "    <path class=\"displacy-arc\" id=\"arrow-d68311c78dac4506afb01f9e4cedcb54-0-0\" stroke-width=\"2px\" d=\"M70,242.0 C70,2.0 530.0,2.0 530.0,242.0\" fill=\"none\" stroke=\"currentColor\"/>\n",
              "    <text dy=\"1.25em\" style=\"font-size: 0.8em; letter-spacing: 1px\">\n",
              "        <textPath xlink:href=\"#arrow-d68311c78dac4506afb01f9e4cedcb54-0-0\" class=\"displacy-label\" startOffset=\"50%\" side=\"left\" fill=\"currentColor\" text-anchor=\"middle\">punct</textPath>\n",
              "    </text>\n",
              "    <path class=\"displacy-arrowhead\" d=\"M70,244.0 L62,232.0 78,232.0\" fill=\"currentColor\"/>\n",
              "</g>\n",
              "\n",
              "<g class=\"displacy-arrow\">\n",
              "    <path class=\"displacy-arc\" id=\"arrow-d68311c78dac4506afb01f9e4cedcb54-0-1\" stroke-width=\"2px\" d=\"M190,242.0 C190,62.0 525.0,62.0 525.0,242.0\" fill=\"none\" stroke=\"currentColor\"/>\n",
              "    <text dy=\"1.25em\" style=\"font-size: 0.8em; letter-spacing: 1px\">\n",
              "        <textPath xlink:href=\"#arrow-d68311c78dac4506afb01f9e4cedcb54-0-1\" class=\"displacy-label\" startOffset=\"50%\" side=\"left\" fill=\"currentColor\" text-anchor=\"middle\">nsubj</textPath>\n",
              "    </text>\n",
              "    <path class=\"displacy-arrowhead\" d=\"M190,244.0 L182,232.0 198,232.0\" fill=\"currentColor\"/>\n",
              "</g>\n",
              "\n",
              "<g class=\"displacy-arrow\">\n",
              "    <path class=\"displacy-arc\" id=\"arrow-d68311c78dac4506afb01f9e4cedcb54-0-2\" stroke-width=\"2px\" d=\"M190,242.0 C190,182.0 275.0,182.0 275.0,242.0\" fill=\"none\" stroke=\"currentColor\"/>\n",
              "    <text dy=\"1.25em\" style=\"font-size: 0.8em; letter-spacing: 1px\">\n",
              "        <textPath xlink:href=\"#arrow-d68311c78dac4506afb01f9e4cedcb54-0-2\" class=\"displacy-label\" startOffset=\"50%\" side=\"left\" fill=\"currentColor\" text-anchor=\"middle\">dobj</textPath>\n",
              "    </text>\n",
              "    <path class=\"displacy-arrowhead\" d=\"M275.0,244.0 L283.0,232.0 267.0,232.0\" fill=\"currentColor\"/>\n",
              "</g>\n",
              "\n",
              "<g class=\"displacy-arrow\">\n",
              "    <path class=\"displacy-arc\" id=\"arrow-d68311c78dac4506afb01f9e4cedcb54-0-3\" stroke-width=\"2px\" d=\"M190,242.0 C190,122.0 400.0,122.0 400.0,242.0\" fill=\"none\" stroke=\"currentColor\"/>\n",
              "    <text dy=\"1.25em\" style=\"font-size: 0.8em; letter-spacing: 1px\">\n",
              "        <textPath xlink:href=\"#arrow-d68311c78dac4506afb01f9e4cedcb54-0-3\" class=\"displacy-label\" startOffset=\"50%\" side=\"left\" fill=\"currentColor\" text-anchor=\"middle\">npadvmod</textPath>\n",
              "    </text>\n",
              "    <path class=\"displacy-arrowhead\" d=\"M400.0,244.0 L408.0,232.0 392.0,232.0\" fill=\"currentColor\"/>\n",
              "</g>\n",
              "\n",
              "<g class=\"displacy-arrow\">\n",
              "    <path class=\"displacy-arc\" id=\"arrow-d68311c78dac4506afb01f9e4cedcb54-0-4\" stroke-width=\"2px\" d=\"M670,242.0 C670,182.0 755.0,182.0 755.0,242.0\" fill=\"none\" stroke=\"currentColor\"/>\n",
              "    <text dy=\"1.25em\" style=\"font-size: 0.8em; letter-spacing: 1px\">\n",
              "        <textPath xlink:href=\"#arrow-d68311c78dac4506afb01f9e4cedcb54-0-4\" class=\"displacy-label\" startOffset=\"50%\" side=\"left\" fill=\"currentColor\" text-anchor=\"middle\">compound</textPath>\n",
              "    </text>\n",
              "    <path class=\"displacy-arrowhead\" d=\"M670,244.0 L662,232.0 678,232.0\" fill=\"currentColor\"/>\n",
              "</g>\n",
              "\n",
              "<g class=\"displacy-arrow\">\n",
              "    <path class=\"displacy-arc\" id=\"arrow-d68311c78dac4506afb01f9e4cedcb54-0-5\" stroke-width=\"2px\" d=\"M550,242.0 C550,122.0 760.0,122.0 760.0,242.0\" fill=\"none\" stroke=\"currentColor\"/>\n",
              "    <text dy=\"1.25em\" style=\"font-size: 0.8em; letter-spacing: 1px\">\n",
              "        <textPath xlink:href=\"#arrow-d68311c78dac4506afb01f9e4cedcb54-0-5\" class=\"displacy-label\" startOffset=\"50%\" side=\"left\" fill=\"currentColor\" text-anchor=\"middle\">nsubj</textPath>\n",
              "    </text>\n",
              "    <path class=\"displacy-arrowhead\" d=\"M760.0,244.0 L768.0,232.0 752.0,232.0\" fill=\"currentColor\"/>\n",
              "</g>\n",
              "</svg></span>"
            ],
            "text/plain": [
              "<IPython.core.display.HTML object>"
            ]
          },
          "metadata": {
            "tags": []
          }
        }
      ]
    },
    {
      "cell_type": "markdown",
      "metadata": {
        "id": "hX0ftc-cuauy",
        "colab_type": "text"
      },
      "source": [
        "Ensuite, on extrait les PoS (part of Speech) et lemmatise la phrase"
      ]
    },
    {
      "cell_type": "code",
      "metadata": {
        "id": "afAYpnpAucUQ",
        "colab_type": "code",
        "outputId": "d01ede62-d9cd-4513-b806-481adb23d4ea",
        "colab": {
          "base_uri": "https://localhost:8080/",
          "height": 102
        }
      },
      "source": [
        "[(x.orth_,x.pos_, x.lemma_) for x in [y \n",
        "                                      for y\n",
        "                                      in nlp(str(sentences[10])) \n",
        "                                      if not y.is_stop and y.pos_ != 'PUNCT']]\n"
      ],
      "execution_count": 49,
      "outputs": [
        {
          "output_type": "execute_result",
          "data": {
            "text/plain": [
              "[('Calm', 'VERB', 'calm'),\n",
              " ('Romeo', 'PROPN', 'Romeo'),\n",
              " ('scolded', 'VERB', 'scold'),\n",
              " ('Friar', 'PROPN', 'Friar'),\n",
              " ('Lawrence', 'PROPN', 'Lawrence')]"
            ]
          },
          "metadata": {
            "tags": []
          },
          "execution_count": 49
        }
      ]
    },
    {
      "cell_type": "code",
      "metadata": {
        "id": "hPETlBPKueEa",
        "colab_type": "code",
        "outputId": "aca3c193-cfb9-416f-865b-d864ed873ead",
        "colab": {
          "base_uri": "https://localhost:8080/",
          "height": 34
        }
      },
      "source": [
        "dict([(str(x), x.label_) for x in nlp(str(sentences[10])).ents])"
      ],
      "execution_count": 50,
      "outputs": [
        {
          "output_type": "execute_result",
          "data": {
            "text/plain": [
              "{'Friar Lawrence': 'PERSON', 'Romeo': 'PERSON'}"
            ]
          },
          "metadata": {
            "tags": []
          },
          "execution_count": 50
        }
      ]
    },
    {
      "cell_type": "markdown",
      "metadata": {
        "id": "ZHBIC6VUufZ5",
        "colab_type": "text"
      },
      "source": [
        "Les entités nommés extraites sont correctes."
      ]
    },
    {
      "cell_type": "code",
      "metadata": {
        "id": "VIXZMIbKuhA1",
        "colab_type": "code",
        "outputId": "3c294b4a-8165-49fc-d7e7-8174cb4c08d4",
        "colab": {
          "base_uri": "https://localhost:8080/",
          "height": 54
        }
      },
      "source": [
        "print([(x, x.ent_iob_, x.ent_type_) for x in sentences[10]])"
      ],
      "execution_count": 51,
      "outputs": [
        {
          "output_type": "stream",
          "text": [
            "[(\", 'O', ''), (Calm, 'B', 'WORK_OF_ART'), (yourself, 'I', 'WORK_OF_ART'), (,, 'I', 'WORK_OF_ART'), (Romeo, 'I', 'WORK_OF_ART'), (,, 'O', ''), (\", 'O', ''), (scolded, 'O', ''), (Friar, 'B', 'PERSON'), (Lawrence, 'I', 'PERSON'), (., 'O', '')]\n"
          ],
          "name": "stdout"
        }
      ]
    },
    {
      "cell_type": "markdown",
      "metadata": {
        "id": "y2rOOnZHLnVA",
        "colab_type": "text"
      },
      "source": [
        "Pour finir on visualise l'extrait complet:"
      ]
    },
    {
      "cell_type": "code",
      "metadata": {
        "id": "iYmRKv3Kuk1s",
        "colab_type": "code",
        "outputId": "b9a51ffb-ab47-4d0d-cbdf-aa415e0cabd7",
        "colab": {
          "base_uri": "https://localhost:8080/",
          "height": 227
        }
      },
      "source": [
        "displacy.render(article, jupyter=True, style='ent')"
      ],
      "execution_count": 34,
      "outputs": [
        {
          "output_type": "display_data",
          "data": {
            "text/html": [
              "<span class=\"tex2jax_ignore\"><div class=\"entities\" style=\"line-height: 2.5; direction: ltr\">\n",
              "<mark class=\"entity\" style=\"background: #aa9cfc; padding: 0.45em 0.6em; margin: 0 0.25em; line-height: 1; border-radius: 0.35em;\">\n",
              "    Friar Lawrence\n",
              "    <span style=\"font-size: 0.8em; font-weight: bold; line-height: 1; border-radius: 0.35em; text-transform: uppercase; vertical-align: middle; margin-left: 0.5rem\">PERSON</span>\n",
              "</mark>\n",
              " was preparing \n",
              "<mark class=\"entity\" style=\"background: #aa9cfc; padding: 0.45em 0.6em; margin: 0 0.25em; line-height: 1; border-radius: 0.35em;\">\n",
              "    Romeo\n",
              "    <span style=\"font-size: 0.8em; font-weight: bold; line-height: 1; border-radius: 0.35em; text-transform: uppercase; vertical-align: middle; margin-left: 0.5rem\">PERSON</span>\n",
              "</mark>\n",
              " for the wedding. He wasn't sure if this wedding was the right tiling to do. Marrying \n",
              "<mark class=\"entity\" style=\"background: #e4e7d2; padding: 0.45em 0.6em; margin: 0 0.25em; line-height: 1; border-radius: 0.35em;\">\n",
              "    two\n",
              "    <span style=\"font-size: 0.8em; font-weight: bold; line-height: 1; border-radius: 0.35em; text-transform: uppercase; vertical-align: middle; margin-left: 0.5rem\">CARDINAL</span>\n",
              "</mark>\n",
              " young people without their parents' permission was not right. He wanted this marriage to bring the \n",
              "<mark class=\"entity\" style=\"background: #e4e7d2; padding: 0.45em 0.6em; margin: 0 0.25em; line-height: 1; border-radius: 0.35em;\">\n",
              "    two\n",
              "    <span style=\"font-size: 0.8em; font-weight: bold; line-height: 1; border-radius: 0.35em; text-transform: uppercase; vertical-align: middle; margin-left: 0.5rem\">CARDINAL</span>\n",
              "</mark>\n",
              " families closer together, but he wasn't sure if it would. &quot;Will they get angry? Will they get angry with me?&quot; he thought. Amen already,&quot; said \n",
              "<mark class=\"entity\" style=\"background: #aa9cfc; padding: 0.45em 0.6em; margin: 0 0.25em; line-height: 1; border-radius: 0.35em;\">\n",
              "    Romeo\n",
              "    <span style=\"font-size: 0.8em; font-weight: bold; line-height: 1; border-radius: 0.35em; text-transform: uppercase; vertical-align: middle; margin-left: 0.5rem\">PERSON</span>\n",
              "</mark>\n",
              ". He was impatient from waiting on \n",
              "<mark class=\"entity\" style=\"background: #7aecec; padding: 0.45em 0.6em; margin: 0 0.25em; line-height: 1; border-radius: 0.35em;\">\n",
              "    Friar Lawrence\n",
              "    <span style=\"font-size: 0.8em; font-weight: bold; line-height: 1; border-radius: 0.35em; text-transform: uppercase; vertical-align: middle; margin-left: 0.5rem\">ORG</span>\n",
              "</mark>\n",
              ". &quot;\n",
              "<mark class=\"entity\" style=\"background: #f0d0ff; padding: 0.45em 0.6em; margin: 0 0.25em; line-height: 1; border-radius: 0.35em;\">\n",
              "    Calm yourself, Romeo\n",
              "    <span style=\"font-size: 0.8em; font-weight: bold; line-height: 1; border-radius: 0.35em; text-transform: uppercase; vertical-align: middle; margin-left: 0.5rem\">WORK_OF_ART</span>\n",
              "</mark>\n",
              ",&quot; scolded \n",
              "<mark class=\"entity\" style=\"background: #aa9cfc; padding: 0.45em 0.6em; margin: 0 0.25em; line-height: 1; border-radius: 0.35em;\">\n",
              "    Friar Lawrence\n",
              "    <span style=\"font-size: 0.8em; font-weight: bold; line-height: 1; border-radius: 0.35em; text-transform: uppercase; vertical-align: middle; margin-left: 0.5rem\">PERSON</span>\n",
              "</mark>\n",
              ". &quot;You need to live and love moderately. If not, neither love nor life will last long.&quot; But he knew \n",
              "<mark class=\"entity\" style=\"background: #aa9cfc; padding: 0.45em 0.6em; margin: 0 0.25em; line-height: 1; border-radius: 0.35em;\">\n",
              "    Romeo\n",
              "    <span style=\"font-size: 0.8em; font-weight: bold; line-height: 1; border-radius: 0.35em; text-transform: uppercase; vertical-align: middle; margin-left: 0.5rem\">PERSON</span>\n",
              "</mark>\n",
              " wouldn't be calm. Neither would \n",
              "<mark class=\"entity\" style=\"background: #aa9cfc; padding: 0.45em 0.6em; margin: 0 0.25em; line-height: 1; border-radius: 0.35em;\">\n",
              "    Juliet\n",
              "    <span style=\"font-size: 0.8em; font-weight: bold; line-height: 1; border-radius: 0.35em; text-transform: uppercase; vertical-align: middle; margin-left: 0.5rem\">PERSON</span>\n",
              "</mark>\n",
              ". Then \n",
              "<mark class=\"entity\" style=\"background: #aa9cfc; padding: 0.45em 0.6em; margin: 0 0.25em; line-height: 1; border-radius: 0.35em;\">\n",
              "    Juliet\n",
              "    <span style=\"font-size: 0.8em; font-weight: bold; line-height: 1; border-radius: 0.35em; text-transform: uppercase; vertical-align: middle; margin-left: 0.5rem\">PERSON</span>\n",
              "</mark>\n",
              " came running toward the church. &quot;I should send both of them home,&quot; thought \n",
              "<mark class=\"entity\" style=\"background: #aa9cfc; padding: 0.45em 0.6em; margin: 0 0.25em; line-height: 1; border-radius: 0.35em;\">\n",
              "    Friar Lawrence\n",
              "    <span style=\"font-size: 0.8em; font-weight: bold; line-height: 1; border-radius: 0.35em; text-transform: uppercase; vertical-align: middle; margin-left: 0.5rem\">PERSON</span>\n",
              "</mark>\n",
              ". But he knew he couldn't do that. &quot;Good \n",
              "<mark class=\"entity\" style=\"background: #bfe1d9; padding: 0.45em 0.6em; margin: 0 0.25em; line-height: 1; border-radius: 0.35em;\">\n",
              "    afternoon\n",
              "    <span style=\"font-size: 0.8em; font-weight: bold; line-height: 1; border-radius: 0.35em; text-transform: uppercase; vertical-align: middle; margin-left: 0.5rem\">TIME</span>\n",
              "</mark>\n",
              ", Father,&quot; sang Juliet. She jumped into \n",
              "<mark class=\"entity\" style=\"background: #aa9cfc; padding: 0.45em 0.6em; margin: 0 0.25em; line-height: 1; border-radius: 0.35em;\">\n",
              "    Romeo\n",
              "    <span style=\"font-size: 0.8em; font-weight: bold; line-height: 1; border-radius: 0.35em; text-transform: uppercase; vertical-align: middle; margin-left: 0.5rem\">PERSON</span>\n",
              "</mark>\n",
              "'s arms. &quot;\n",
              "<mark class=\"entity\" style=\"background: #aa9cfc; padding: 0.45em 0.6em; margin: 0 0.25em; line-height: 1; border-radius: 0.35em;\">\n",
              "    Juliet\n",
              "    <span style=\"font-size: 0.8em; font-weight: bold; line-height: 1; border-radius: 0.35em; text-transform: uppercase; vertical-align: middle; margin-left: 0.5rem\">PERSON</span>\n",
              "</mark>\n",
              "!&quot; cried \n",
              "<mark class=\"entity\" style=\"background: #aa9cfc; padding: 0.45em 0.6em; margin: 0 0.25em; line-height: 1; border-radius: 0.35em;\">\n",
              "    Romeo\n",
              "    <span style=\"font-size: 0.8em; font-weight: bold; line-height: 1; border-radius: 0.35em; text-transform: uppercase; vertical-align: middle; margin-left: 0.5rem\">PERSON</span>\n",
              "</mark>\n",
              ", holding her. &quot;Please tell me you love me as much as I love you! And how happy you will be after we are married.&quot; &quot;I love you so much that words can't describe it,&quot; she said and kissed him.</div></span>"
            ],
            "text/plain": [
              "<IPython.core.display.HTML object>"
            ]
          },
          "metadata": {
            "tags": []
          }
        }
      ]
    }
  ]
}