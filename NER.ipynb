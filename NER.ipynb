{
  "nbformat": 4,
  "nbformat_minor": 0,
  "metadata": {
    "colab": {
      "name": "NER.ipynb",
      "provenance": [],
      "collapsed_sections": [],
      "authorship_tag": "ABX9TyNn8vj4JbUTciv7ESDFp5Hx",
      "include_colab_link": true
    },
    "kernelspec": {
      "name": "python3",
      "display_name": "Python 3"
    }
  },
  "cells": [
    {
      "cell_type": "markdown",
      "metadata": {
        "id": "view-in-github",
        "colab_type": "text"
      },
      "source": [
        "<a href=\"https://colab.research.google.com/github/jalva80/NLPlaying/blob/master/NER.ipynb\" target=\"_parent\"><img src=\"https://colab.research.google.com/assets/colab-badge.svg\" alt=\"Open In Colab\"/></a>"
      ]
    },
    {
      "cell_type": "markdown",
      "metadata": {
        "id": "xXi4pfUGzNnV",
        "colab_type": "text"
      },
      "source": [
        "# Natural Language Processing - Named Entity Recognition\n",
        "Notebook de jeu avec la reconnaissance d'entités nommées."
      ]
    },
    {
      "cell_type": "markdown",
      "metadata": {
        "id": "wruLdQC9zRgC",
        "colab_type": "text"
      },
      "source": [
        "# Librairies\n",
        "\n",
        "Utilisation de NLTK et Spacy pour la reconnaissance d'entités nommées dans des textes bruts rédigés en français."
      ]
    },
    {
      "cell_type": "code",
      "metadata": {
        "id": "mSaOeizEyMTK",
        "colab_type": "code",
        "colab": {}
      },
      "source": [
        "import nltk\n",
        "from nltk.tokenize import word_tokenize\n",
        "from nltk.tag import pos_tag"
      ],
      "execution_count": 0,
      "outputs": []
    }
  ]
}